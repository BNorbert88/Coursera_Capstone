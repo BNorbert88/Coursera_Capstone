{
  "nbformat": 4,
  "nbformat_minor": 0,
  "metadata": {
    "colab": {
      "name": "Coursera_Capstone.ipynb",
      "provenance": [],
      "collapsed_sections": []
    },
    "kernelspec": {
      "name": "python3",
      "display_name": "Python 3"
    },
    "language_info": {
      "name": "python"
    }
  },
  "cells": [
    {
      "cell_type": "markdown",
      "metadata": {
        "id": "JuQXocMj20Rk"
      },
      "source": [
        "# Applied Data Science Capstone"
      ]
    },
    {
      "cell_type": "markdown",
      "metadata": {
        "id": "6wINLbo325y-"
      },
      "source": [
        "This notebook contains the main part of the assignment of the course Applied Data Science Capstone."
      ]
    },
    {
      "cell_type": "code",
      "metadata": {
        "id": "IOakZMSh2rbt"
      },
      "source": [
        "import numpy as np\n",
        "import pandas as pd"
      ],
      "execution_count": 1,
      "outputs": []
    },
    {
      "cell_type": "code",
      "metadata": {
        "colab": {
          "base_uri": "https://localhost:8080/"
        },
        "id": "wtMqjWjF3VW4",
        "outputId": "5e5a2500-ec8c-44cb-f394-697f26dac913"
      },
      "source": [
        "print(\"Hello Capstone Project Course!\")"
      ],
      "execution_count": 2,
      "outputs": [
        {
          "output_type": "stream",
          "text": [
            "Hello Capstone Project Course!\n"
          ],
          "name": "stdout"
        }
      ]
    },
    {
      "cell_type": "code",
      "metadata": {
        "id": "tzkVA3cd3bbd"
      },
      "source": [
        ""
      ],
      "execution_count": null,
      "outputs": []
    }
  ]
}